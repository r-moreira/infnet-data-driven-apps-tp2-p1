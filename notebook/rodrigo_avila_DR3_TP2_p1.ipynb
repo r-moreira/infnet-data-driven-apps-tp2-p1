{
 "cells": [
  {
   "cell_type": "markdown",
   "metadata": {},
   "source": [
    "# INFNET\n",
    "## Desenvolvimento de Data-Driven Apps com Python [24E4_3] - TP2\n",
    "### Aluno: Rodrigo Moreira Avila\n",
    "---\n",
    "\n",
    "Repositório GIT: https://github.com/r-moreira/infnet-data-driven-apps-tp2-p1\n",
    "\n",
    "#### Questões teóricas\n",
    "\n",
    "> Parte 1"
   ]
  },
  {
   "cell_type": "markdown",
   "metadata": {},
   "source": [
    "#### Questão 3: Com base na API desenvolvida na Questão 2 (Parte1), explique as principais limitações do modelo de tradução utilizado.\n",
    "\n",
    "Enumere e discuta:\n",
    "\n",
    "* Limitações quanto à precisão da tradução.\n",
    "* Desafios de tempo de resposta e desempenho em grande escala.\n",
    "* Restrições de custo e escalabilidade.\n",
    "* Limitações na tradução de gírias, expressões idiomáticas ou linguagem de contexto."
   ]
  },
  {
   "cell_type": "markdown",
   "metadata": {},
   "source": [
    "A API desenvolvida na Questão 2 (Parte1) possui limitações.\n",
    "\n",
    "1. **Limitações quanto à precisão da tradução**: O modelo pode cometer erros assim como qualquer outro modelo de LLM, no caso do modelo em questão, ele pode ter dificuldade ao traduzir frases complexas ou ambíguas.\n",
    "\n",
    "2. **Desafios de tempo de resposta e desempenho em grande escala**: O modelo pode ter um tempo de resposta maior em grande escala, pois o uso de recursos usado pelo modelo é grande, ao se comparar com uma consulta em banco de dados, por exemplo.\n",
    "\n",
    "3. **Restrições de custo e escalabilidade**: O modelo pode ter um custo alto para ser utilizado em grande escala, devido a quantidade de recursos usados, e consequentemente, afetando a escalabilidade do modelo.\n",
    "\n",
    "4. **Limitações na tradução de gírias, expressões idiomáticas ou linguagem de contexto**:\n",
    "O modelo pode ter dificuldade em traduzir gírias, expressões idiomáticas ou linguagem de contexto, pois o modelo nem sempre consegue entender o contexto da frase, e assim, pode traduzir de forma errada."
   ]
  },
  {
   "cell_type": "markdown",
   "metadata": {},
   "source": [
    "#### Questão 4: Com base no modelo GPT-2 utilizado na Questão 1 (Parte 1), explique as principais limitações do modelo no contexto da geração de texto.\n",
    "\n",
    "Discuta:\n",
    "\n",
    "* A coerência do texto gerado.\n",
    "* Possíveis falhas ou incoerências geradas por LLMs.\n",
    "* Desempenho e questões de latência.\n",
    "* Limitações na geração de conteúdo apropriado."
   ]
  },
  {
   "cell_type": "markdown",
   "metadata": {},
   "source": [
    "**A coerência do texto gerado**: O modelo GPT-2 se comparado a outros modelos, ele tem menos precisão, e nem sempre consegue gerar um texto coerente, ele acaba alucinando bastante, principalmente em textos mais longos.\n",
    "\n",
    "**Possíveis falhas ou incoerências geradas por LLMs**: Falhas ou incoerências são comuns, pois ele não tem acesso a uma base de dados factual, e assim, ele pode gerar informações erradas, tudo depende do treinamento do modelo e da quantidade de dados que ele foi treinado.\n",
    "\n",
    "**Desempenho e questões de latência**: O modelo GPT-2 pode ter um desempenho ruim em grande escala, pois o uso de recursos usado pelo modelo é grande, ao se comparar com uma consulta em banco de dados, por exemplo, inclusive ele é muito mais pesado que o modelo de tradução da Questão 2 (Parte1).\n",
    "\n",
    "**Limitações na geração de conteúdo apropriado**: O modelo GPT-2 pode acabar gerando conteúdo inadequado ou ofensivo, já que ele não tem uma compreensão real do que está sendo gerado, ele apenas tenta gerar um texto coerente baseado no treinamento que ele recebeu. Além disso, ele pode apresentar viéses e falta de contexto atualizado, o GPT2 é um modelo de 2019."
   ]
  },
  {
   "cell_type": "code",
   "execution_count": 2,
   "metadata": {},
   "outputs": [
    {
     "name": "stdout",
     "output_type": "stream",
     "text": [
      "[NbConvertApp] Converting notebook rodrigo_avila_DR3_TP2_p1.ipynb to webpdf\n",
      "[NbConvertApp] Building PDF\n",
      "[NbConvertApp] PDF successfully created\n",
      "[NbConvertApp] Writing 174707 bytes to rodrigo_avila_DR3_TP2_p1.pdf\n"
     ]
    }
   ],
   "source": [
    "!jupyter nbconvert --to webpdf rodrigo_avila_DR3_TP2_p1.ipynb"
   ]
  }
 ],
 "metadata": {
  "kernelspec": {
   "display_name": "Python 3",
   "language": "python",
   "name": "python3"
  },
  "language_info": {
   "codemirror_mode": {
    "name": "ipython",
    "version": 3
   },
   "file_extension": ".py",
   "mimetype": "text/x-python",
   "name": "python",
   "nbconvert_exporter": "python",
   "pygments_lexer": "ipython3",
   "version": "3.11.9"
  }
 },
 "nbformat": 4,
 "nbformat_minor": 2
}
